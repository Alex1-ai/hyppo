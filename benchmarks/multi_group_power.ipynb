{
 "cells": [
  {
   "cell_type": "code",
   "execution_count": 1,
   "metadata": {},
   "outputs": [],
   "source": [
    "import sys, os\n",
    "\n",
    "import numpy as np\n",
    "import matplotlib.pyplot as plt\n",
    "from matplotlib.legend import Legend\n",
    "\n",
    "sys.path.append(os.path.realpath('..'))\n",
    "from hyppo.independence import MGC\n",
    "from scipy.stats import multiscale_graphcorr\n",
    "%load_ext autoreload\n",
    "%autoreload 2"
   ]
  },
  {
   "cell_type": "code",
   "execution_count": 2,
   "metadata": {},
   "outputs": [],
   "source": [
    "n = 100\n",
    "m = 3\n",
    "d = 4\n",
    "mus = np.random.normal(0,1,(n,d))\n",
    "X = np.vstack([np.random.normal(mu,0.1,(m,d)) for mu in mus])\n",
    "Y = np.hstack((np.zeros(200), np.ones(100)))\n",
    "groups = np.hstack([[i]*m for i in range(n)])"
   ]
  },
  {
   "cell_type": "code",
   "execution_count": 26,
   "metadata": {},
   "outputs": [],
   "source": [
    "stat_uc, pval_uc, mgc_dict_uc = multiscale_graphcorr(X,Y,reps=1000,workers=10,random_state=1)"
   ]
  },
  {
   "cell_type": "code",
   "execution_count": 27,
   "metadata": {},
   "outputs": [
    {
     "name": "stdout",
     "output_type": "stream",
     "text": [
      "Unconditioned Permutations: 0.001\n",
      "Optimal Scale [3, 1]\n"
     ]
    }
   ],
   "source": [
    "print(f'Unconditioned Permutations: {pval_uc}')\n",
    "print(f'Optimal Scale {mgc_dict_uc[\"opt_scale\"]}')"
   ]
  },
  {
   "cell_type": "code",
   "execution_count": 57,
   "metadata": {},
   "outputs": [],
   "source": [
    "stat_c, pval_c, mgc_dict_c = multiscale_graphcorr(X,Y,reps=1000,workers=10,random_state=1,permute_groups=groups)"
   ]
  },
  {
   "cell_type": "code",
   "execution_count": 58,
   "metadata": {},
   "outputs": [
    {
     "name": "stdout",
     "output_type": "stream",
     "text": [
      "Conditioned Permutations: 0.241\n",
      "Optimal Scale [3, 1]\n"
     ]
    }
   ],
   "source": [
    "print(f'Conditioned Permutations: {pval_c}')\n",
    "print(f'Optimal Scale {mgc_dict_c[\"opt_scale\"]}')"
   ]
  }
 ],
 "metadata": {
  "kernelspec": {
   "display_name": "Python [conda env:hyppo] *",
   "language": "python",
   "name": "conda-env-hyppo-py"
  },
  "language_info": {
   "codemirror_mode": {
    "name": "ipython",
    "version": 3
   },
   "file_extension": ".py",
   "mimetype": "text/x-python",
   "name": "python",
   "nbconvert_exporter": "python",
   "pygments_lexer": "ipython3",
   "version": "3.7.7"
  }
 },
 "nbformat": 4,
 "nbformat_minor": 4
}
