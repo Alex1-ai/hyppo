{
 "cells": [
  {
   "cell_type": "markdown",
   "metadata": {},
   "source": [
    "# Tesing multi group permutation\n",
    "\n",
    "In the case of dependencies between observations during a 2 sample test, we hold fixed their relative labels during the permutation. \n",
    "\n",
    "Here, we simulate pairs of observations more similar to one another than others. We form two sets of labels in the two sample test. In the \"null\" case, we are pair agnostic. Otherwise, either the pairs are assigned:\n",
    "- the same label (differences **across**)\n",
    "- different labels (differences **within**)\n",
    "\n",
    "Followng the simulations, the scipy permutation code is validated and we see that the permutations sort pairs correctly while the \"null\" permutation case shows no pattern."
   ]
  },
  {
   "cell_type": "code",
   "execution_count": 22,
   "metadata": {},
   "outputs": [
    {
     "name": "stdout",
     "output_type": "stream",
     "text": [
      "The autoreload extension is already loaded. To reload it, use:\n",
      "  %reload_ext autoreload\n"
     ]
    }
   ],
   "source": [
    "import sys, os\n",
    "\n",
    "import numpy as np\n",
    "import matplotlib.pyplot as plt\n",
    "from matplotlib.legend import Legend\n",
    "\n",
    "sys.path.append(os.path.realpath('..'))\n",
    "from hyppo.independence import MGC\n",
    "from scipy.stats import multiscale_graphcorr\n",
    "from scipy.spatial.distance import squareform, pdist\n",
    "%load_ext autoreload\n",
    "%autoreload 2"
   ]
  },
  {
   "cell_type": "code",
   "execution_count": 44,
   "metadata": {},
   "outputs": [],
   "source": [
    "n = 100\n",
    "m = 2\n",
    "d = 4\n",
    "mus = np.random.normal(0,1,(n,d))\n",
    "X = np.vstack(\n",
    "    [np.random.normal(mu,0.1,(m,d)) for mu in mus]\n",
    ")\n",
    "Y_within = np.hstack([[0,1] for _ in range(n)])\n",
    "Y_across = np.hstack(\n",
    "    [[0] for _ in range(n)] +\n",
    "    [[1] for _ in range(n)]\n",
    ")\n",
    "groups = np.hstack(\n",
    "    [[f'{i}']*m for i in range(n)]\n",
    ")"
   ]
  },
  {
   "cell_type": "code",
   "execution_count": 54,
   "metadata": {},
   "outputs": [
    {
     "data": {
      "image/png": "[encoded data removed]",
      "text/plain": [
       "<Figure size 432x288 with 2 Axes>"
      ]
     },
     "metadata": {
      "needs_background": "light"
     },
     "output_type": "display_data"
    }
   ],
   "source": [
    "#data = squareform(pdist(Y_within[:8,None]))\n",
    "data = squareform(pdist(X[:8]))\n",
    "fig, ax = plt.subplots()\n",
    "heatmap = ax.pcolor(data, cmap=plt.cm.Blues)\n",
    "plt.colorbar(heatmap)\n",
    "# want a more natural, table-like display\n",
    "ax.invert_yaxis()\n",
    "ax.xaxis.tick_top()\n",
    "plt.title('X Distance matrix subset')\n",
    "plt.show()"
   ]
  },
  {
   "cell_type": "markdown",
   "metadata": {},
   "source": [
    "### Across classes"
   ]
  },
  {
   "cell_type": "code",
   "execution_count": 60,
   "metadata": {},
   "outputs": [
    {
     "data": {
      "image/png": "[encoded data removed]",
      "text/plain": [
       "<Figure size 432x288 with 2 Axes>"
      ]
     },
     "metadata": {
      "needs_background": "light"
     },
     "output_type": "display_data"
    }
   ],
   "source": [
    "data = squareform(pdist(Y_across[:,None]))\n",
    "fig, ax = plt.subplots()\n",
    "heatmap = ax.pcolor(data, cmap=plt.cm.Blues)\n",
    "plt.colorbar(heatmap)\n",
    "# want a more natural, table-like display\n",
    "ax.invert_yaxis()\n",
    "ax.xaxis.tick_top()\n",
    "plt.title('Y (across group) Distance matrix')\n",
    "plt.show()"
   ]
  },
  {
   "cell_type": "code",
   "execution_count": 47,
   "metadata": {},
   "outputs": [],
   "source": [
    "stat_uc, pval_uc, mgc_dict_uc = multiscale_graphcorr(\n",
    "    X,Y_across,\n",
    "    reps=1000,\n",
    "    workers=10,\n",
    "    random_state=1,\n",
    "    permute_groups=np.arange(Y_across.shape[0])\n",
    ")"
   ]
  },
  {
   "cell_type": "code",
   "execution_count": 48,
   "metadata": {},
   "outputs": [
    {
     "name": "stdout",
     "output_type": "stream",
     "text": [
      "Unconditioned Permutations: 0.001\n",
      "Optimal Scale [3, 1]\n"
     ]
    }
   ],
   "source": [
    "print(f'Unconditioned Permutations: {pval_uc}')\n",
    "print(f'Optimal Scale {mgc_dict_uc[\"opt_scale\"]}')"
   ]
  },
  {
   "cell_type": "code",
   "execution_count": 49,
   "metadata": {},
   "outputs": [],
   "source": [
    "stat_c, pval_c, mgc_dict_c = multiscale_graphcorr(\n",
    "    X,Y_across,\n",
    "    reps=1000,\n",
    "    workers=10,\n",
    "    random_state=1,\n",
    "    permute_groups=groups\n",
    ")"
   ]
  },
  {
   "cell_type": "code",
   "execution_count": 50,
   "metadata": {},
   "outputs": [
    {
     "name": "stdout",
     "output_type": "stream",
     "text": [
      "Conditioned Permutations: 0.11\n",
      "Optimal Scale [3, 1]\n"
     ]
    }
   ],
   "source": [
    "print(f'Conditioned Permutations: {pval_c}')\n",
    "print(f'Optimal Scale {mgc_dict_c[\"opt_scale\"]}')"
   ]
  },
  {
   "cell_type": "markdown",
   "metadata": {},
   "source": [
    "### Within class"
   ]
  },
  {
   "cell_type": "code",
   "execution_count": 56,
   "metadata": {},
   "outputs": [
    {
     "data": {
      "image/png": "[encoded data removed]",
      "text/plain": [
       "<Figure size 432x288 with 2 Axes>"
      ]
     },
     "metadata": {
      "needs_background": "light"
     },
     "output_type": "display_data"
    }
   ],
   "source": [
    "data = squareform(pdist(Y_within[:8,None]))\n",
    "fig, ax = plt.subplots()\n",
    "heatmap = ax.pcolor(data, cmap=plt.cm.Blues)\n",
    "plt.colorbar(heatmap)\n",
    "# want a more natural, table-like display\n",
    "ax.invert_yaxis()\n",
    "ax.xaxis.tick_top()\n",
    "plt.title('Y (within group) Distance matrix subset')\n",
    "plt.show()"
   ]
  },
  {
   "cell_type": "code",
   "execution_count": 51,
   "metadata": {},
   "outputs": [
    {
     "name": "stdout",
     "output_type": "stream",
     "text": [
      "Unconditioned Permutations: 1.0\n",
      "Optimal Scale [200, 2]\n"
     ]
    }
   ],
   "source": [
    "stat_uc, pval_uc, mgc_dict_uc = multiscale_graphcorr(\n",
    "    X,Y_within,\n",
    "    reps=1000,\n",
    "    workers=10,\n",
    "    random_state=1,\n",
    "    permute_groups=np.arange(Y_within.shape[0])\n",
    ")\n",
    "print(f'Unconditioned Permutations: {pval_uc}')\n",
    "print(f'Optimal Scale {mgc_dict_uc[\"opt_scale\"]}')"
   ]
  },
  {
   "cell_type": "code",
   "execution_count": 52,
   "metadata": {},
   "outputs": [
    {
     "name": "stdout",
     "output_type": "stream",
     "text": [
      "Conditioned Permutations: 0.01\n",
      "Optimal Scale [200, 2]\n"
     ]
    }
   ],
   "source": [
    "stat_c, pval_c, mgc_dict_c = multiscale_graphcorr(\n",
    "    X,Y_within,\n",
    "    reps=1000,\n",
    "    workers=10,\n",
    "    random_state=1,\n",
    "    permute_groups=groups\n",
    ")\n",
    "print(f'Conditioned Permutations: {pval_c}')\n",
    "print(f'Optimal Scale {mgc_dict_c[\"opt_scale\"]}')"
   ]
  },
  {
   "cell_type": "markdown",
   "metadata": {},
   "source": [
    "## Test Scipy Code"
   ]
  },
  {
   "cell_type": "code",
   "execution_count": 68,
   "metadata": {},
   "outputs": [],
   "source": [
    "from collections import defaultdict\n",
    "from copy import deepcopy"
   ]
  },
  {
   "cell_type": "code",
   "execution_count": 62,
   "metadata": {},
   "outputs": [],
   "source": [
    "class _ParallelP(object):\n",
    "    \"\"\"\n",
    "    Helper function to calculate parallel p-value.\n",
    "    \"\"\"\n",
    "    def __init__(self, x, y, random_states, permute_groups=None):\n",
    "        self.x = x\n",
    "        self.y = y\n",
    "        self.random_states = random_states\n",
    "        self.permute_groups = permute_groups\n",
    "        if permute_groups is not None:\n",
    "            # Get labels, as we assume a two sample test\n",
    "            self.y_labels = np.unique(y, return_inverse=True, axis=1)[1]\n",
    "            # dict: [y_label] -> list(indices)\n",
    "            self.class_indices = defaultdict(list) \n",
    "            # dict: [group_label] -> list(indices)\n",
    "            group_indices = defaultdict(lambda: defaultdict(list))\n",
    "            for i,(group,label) in enumerate(zip(permute_groups, self.y_labels)):\n",
    "                self.class_indices[label].append(i)\n",
    "                group_indices[group][label].append(i)\n",
    "            # list of group indices, sorted descending order\n",
    "            self.group_indices = sorted(\n",
    "                group_indices.values(), key=lambda x: max([len(d) for d in x.values()]), reverse=True\n",
    "            )\n",
    "            #self.min_group_size = len(self.group_indices[-1])\n",
    "\n",
    "    def __call__(self, index):\n",
    "        if self.permute_groups is None:\n",
    "            order = self.random_states[index].permutation(self.y.shape[0])\n",
    "        else:\n",
    "            # Copy dict: [y_label] -> list(indices)\n",
    "            class_indices_copy = deepcopy(self.class_indices)\n",
    "            new_indices = []\n",
    "            old_indices = []\n",
    "            min_reamining = np.cumsum(\n",
    "                [min([len(d) for d in x.values()]) for x in self.group_indices]\n",
    "            )[::-1]\n",
    "            # For each list(group_indices)\n",
    "            for group,min_r in zip(self.group_indices, min_reamining):\n",
    "                p1 = self.factorial(len(class_indices_copy[0]), len(group[0])) * \\\n",
    "                     self.factorial(len(class_indices_copy[1]), len(group[1]))\n",
    "                p2 = self.factorial(len(class_indices_copy[1]), len(group[0])) * \\\n",
    "                     self.factorial(len(class_indices_copy[0]), len(group[1]))\n",
    "                if np.random.uniform() < p1 / (p1+p2):\n",
    "                    # Assign groups[0] idxs to class 0 and vice versa\n",
    "                    new_indices += [class_indices_copy[0].pop() for _ in range(len(group[0]))]\n",
    "                    new_indices += [class_indices_copy[1].pop() for _ in range(len(group[1]))]\n",
    "                else:\n",
    "                    new_indices += [class_indices_copy[1].pop() for _ in range(len(group[0]))]\n",
    "                    new_indices += [class_indices_copy[0].pop() for _ in range(len(group[1]))]\n",
    "                # Old indices in correct order\n",
    "                old_indices += group[0]\n",
    "                old_indices += group[1]\n",
    "            order = np.ones(self.y.shape[0]) * -1\n",
    "            order[np.asarray(old_indices)] = new_indices\n",
    "            order = order.astype(int)\n",
    "        permy = self.y[order]#[:, order]\n",
    "\n",
    "        # calculate permuted stats, store in null distribution\n",
    "        # perm_stat = _mgc_stat(self.x, permy)[0]\n",
    "\n",
    "        return permy\n",
    "\n",
    "    def factorial(self, n, n_mults):\n",
    "        if n_mults == 0:\n",
    "            return 1\n",
    "        else:\n",
    "            return n * self.factorial(n-1, n_mults-1)"
   ]
  },
  {
   "cell_type": "markdown",
   "metadata": {},
   "source": [
    "### Within Y"
   ]
  },
  {
   "cell_type": "markdown",
   "metadata": {},
   "source": [
    "#### No Grouping"
   ]
  },
  {
   "cell_type": "code",
   "execution_count": 66,
   "metadata": {},
   "outputs": [],
   "source": [
    "p = _ParallelP(\n",
    "    None,\n",
    "    squareform(pdist(Y_within[:,None])),\n",
    "    None,\n",
    "    permute_groups=np.arange(Y_within.shape[0])\n",
    ")\n",
    "y_perm = p(None)"
   ]
  },
  {
   "cell_type": "code",
   "execution_count": 85,
   "metadata": {},
   "outputs": [
    {
     "data": {
      "text/plain": [
       "array([  0., 100., 100.,   0.,   0.,   0.,   0., 100., 100., 100., 100.,\n",
       "         0.,   0., 100., 100., 100., 100.,   0.,   0.,   0.,   0.,   0.,\n",
       "       100.,   0., 100.,   0.,   0.,   0.,   0.,   0.,   0.,   0.,   0.,\n",
       "       100.,   0., 100., 100.,   0.,   0.,   0.,   0., 100., 100.,   0.,\n",
       "         0.,   0.,   0., 100.,   0., 100.,   0., 100.,   0.,   0., 100.,\n",
       "       100.,   0.,   0.,   0.,   0., 100.,   0.,   0.,   0.,   0.,   0.,\n",
       "         0.,   0.,   0.,   0., 100.,   0.,   0.,   0.,   0., 100., 100.,\n",
       "         0., 100.,   0., 100.,   0.,   0., 100.,   0.,   0.,   0.,   0.,\n",
       "         0., 100.,   0., 100., 100., 100.,   0.,   0.,   0.,   0., 100.,\n",
       "         0.])"
      ]
     },
     "execution_count": 85,
     "metadata": {},
     "output_type": "execute_result"
    }
   ],
   "source": [
    "(y_perm[::2] * y_perm[1::2]).sum(axis=1)"
   ]
  },
  {
   "cell_type": "markdown",
   "metadata": {},
   "source": [
    "#### With Grouping"
   ]
  },
  {
   "cell_type": "code",
   "execution_count": 86,
   "metadata": {},
   "outputs": [],
   "source": [
    "p = _ParallelP(\n",
    "    None,\n",
    "    squareform(pdist(Y_within[:,None])),\n",
    "    None,\n",
    "    permute_groups=groups\n",
    ")\n",
    "y_perm = p(None)"
   ]
  },
  {
   "cell_type": "code",
   "execution_count": 87,
   "metadata": {},
   "outputs": [
    {
     "data": {
      "text/plain": [
       "array([0., 0., 0., 0., 0., 0., 0., 0., 0., 0., 0., 0., 0., 0., 0., 0., 0.,\n",
       "       0., 0., 0., 0., 0., 0., 0., 0., 0., 0., 0., 0., 0., 0., 0., 0., 0.,\n",
       "       0., 0., 0., 0., 0., 0., 0., 0., 0., 0., 0., 0., 0., 0., 0., 0., 0.,\n",
       "       0., 0., 0., 0., 0., 0., 0., 0., 0., 0., 0., 0., 0., 0., 0., 0., 0.,\n",
       "       0., 0., 0., 0., 0., 0., 0., 0., 0., 0., 0., 0., 0., 0., 0., 0., 0.,\n",
       "       0., 0., 0., 0., 0., 0., 0., 0., 0., 0., 0., 0., 0., 0., 0.])"
      ]
     },
     "execution_count": 87,
     "metadata": {},
     "output_type": "execute_result"
    }
   ],
   "source": [
    "(y_perm[::2] * y_perm[1::2]).sum(axis=1)"
   ]
  },
  {
   "cell_type": "markdown",
   "metadata": {},
   "source": [
    "### Between Y"
   ]
  },
  {
   "cell_type": "markdown",
   "metadata": {},
   "source": [
    "#### No Grouping"
   ]
  },
  {
   "cell_type": "code",
   "execution_count": 89,
   "metadata": {},
   "outputs": [],
   "source": [
    "p = _ParallelP(\n",
    "    None,\n",
    "    squareform(pdist(Y_across[:,None])),\n",
    "    None,\n",
    "    permute_groups=np.arange(Y_within.shape[0])\n",
    ")\n",
    "y_perm = p(None)"
   ]
  },
  {
   "cell_type": "code",
   "execution_count": 90,
   "metadata": {},
   "outputs": [
    {
     "data": {
      "text/plain": [
       "array([100.,   0., 100.,   0.,   0.,   0.,   0., 100., 100., 100.,   0.,\n",
       "       100.,   0.,   0.,   0.,   0.,   0., 100., 100.,   0., 100.,   0.,\n",
       "       100., 100.,   0., 100.,   0.,   0., 100.,   0., 100.,   0.,   0.,\n",
       "         0.,   0.,   0., 100.,   0.,   0., 100.,   0.,   0.,   0.,   0.,\n",
       "         0.,   0.,   0.,   0., 100., 100.,   0., 100., 100., 100.,   0.,\n",
       "         0., 100., 100., 100.,   0.,   0., 100., 100., 100., 100.,   0.,\n",
       "       100., 100., 100.,   0., 100., 100.,   0.,   0., 100., 100.,   0.,\n",
       "         0.,   0.,   0., 100., 100.,   0.,   0.,   0., 100., 100.,   0.,\n",
       "       100., 100., 100.,   0.,   0.,   0.,   0., 100.,   0., 100.,   0.,\n",
       "         0.])"
      ]
     },
     "execution_count": 90,
     "metadata": {},
     "output_type": "execute_result"
    }
   ],
   "source": [
    "(y_perm[::2] * y_perm[1::2]).sum(axis=1)"
   ]
  },
  {
   "cell_type": "markdown",
   "metadata": {},
   "source": [
    "#### With Grouping"
   ]
  },
  {
   "cell_type": "code",
   "execution_count": 91,
   "metadata": {},
   "outputs": [],
   "source": [
    "p = _ParallelP(\n",
    "    None,\n",
    "    squareform(pdist(Y_across[:,None])),\n",
    "    None,\n",
    "    permute_groups=groups\n",
    ")\n",
    "y_perm = p(None)"
   ]
  },
  {
   "cell_type": "code",
   "execution_count": 92,
   "metadata": {},
   "outputs": [
    {
     "data": {
      "text/plain": [
       "array([100., 100., 100., 100., 100., 100., 100., 100., 100., 100., 100.,\n",
       "       100., 100., 100., 100., 100., 100., 100., 100., 100., 100., 100.,\n",
       "       100., 100., 100., 100., 100., 100., 100., 100., 100., 100., 100.,\n",
       "       100., 100., 100., 100., 100., 100., 100., 100., 100., 100., 100.,\n",
       "       100., 100., 100., 100., 100., 100., 100., 100., 100., 100., 100.,\n",
       "       100., 100., 100., 100., 100., 100., 100., 100., 100., 100., 100.,\n",
       "       100., 100., 100., 100., 100., 100., 100., 100., 100., 100., 100.,\n",
       "       100., 100., 100., 100., 100., 100., 100., 100., 100., 100., 100.,\n",
       "       100., 100., 100., 100., 100., 100., 100., 100., 100., 100., 100.,\n",
       "       100.])"
      ]
     },
     "execution_count": 92,
     "metadata": {},
     "output_type": "execute_result"
    }
   ],
   "source": [
    "(y_perm[::2] * y_perm[1::2]).sum(axis=1)"
   ]
  }
 ],
 "metadata": {
  "kernelspec": {
   "display_name": "Python [conda env:hyppo] *",
   "language": "python",
   "name": "conda-env-hyppo-py"
  },
  "language_info": {
   "codemirror_mode": {
    "name": "ipython",
    "version": 3
   },
   "file_extension": ".py",
   "mimetype": "text/x-python",
   "name": "python",
   "nbconvert_exporter": "python",
   "pygments_lexer": "ipython3",
   "version": "3.7.7"
  }
 },
 "nbformat": 4,
 "nbformat_minor": 4
}
